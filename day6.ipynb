{
 "cells": [
  {
   "cell_type": "code",
   "execution_count": 3,
   "metadata": {},
   "outputs": [
    {
     "name": "stdout",
     "output_type": "stream",
     "text": [
      "Welcome to python class\n"
     ]
    }
   ],
   "source": [
    "def greet(): # A function without a parameter\n",
    "    print('Welcome to python class')\n",
    "greet()\n"
   ]
  },
  {
   "cell_type": "code",
   "execution_count": 5,
   "metadata": {},
   "outputs": [
    {
     "name": "stdout",
     "output_type": "stream",
     "text": [
      "Welcome to python class Simeon\n"
     ]
    }
   ],
   "source": [
    "def greet2(name):# A function with a single parameter\n",
    "    print(f'Welcome to python class {name}')\n",
    "greet2('Simeon')"
   ]
  },
  {
   "cell_type": "code",
   "execution_count": 6,
   "metadata": {},
   "outputs": [
    {
     "name": "stdout",
     "output_type": "stream",
     "text": [
      "Welcome to python class Ade\n"
     ]
    }
   ],
   "source": [
    "greet2('Ade')"
   ]
  },
  {
   "cell_type": "code",
   "execution_count": 7,
   "metadata": {},
   "outputs": [
    {
     "name": "stdout",
     "output_type": "stream",
     "text": [
      "Name:Simeon\n",
      "Gender:Male\n",
      "Heigth:1.75\n",
      "Weight:69\n",
      "Age:30\n",
      "\n",
      "Congratulations you are eligible to vote\n"
     ]
    }
   ],
   "source": [
    "def person(name,gender,height,weight,age):# A function with multiple parameter\n",
    "    print(f'''Name:{name}\n",
    "Gender:{gender}\n",
    "Heigth:{height}\n",
    "Weight:{weight}\n",
    "Age:{age}\n",
    "''')\n",
    "    if age >=18:\n",
    "        print('Congratulations you are eligible to vote')\n",
    "    else:\n",
    "        print('oh!!!!!! you are not eligible to vote')\n",
    "person('Simeon','Male',1.75,69,30)"
   ]
  },
  {
   "cell_type": "code",
   "execution_count": 13,
   "metadata": {},
   "outputs": [
    {
     "name": "stdout",
     "output_type": "stream",
     "text": [
      "Name:Simeon\n",
      "Gender:Male\n",
      "Heigth:1.75\n",
      "Weight:69\n",
      "Age:25\n",
      "\n",
      "Congratulations you are eligible to vote\n"
     ]
    }
   ],
   "source": [
    "def person2(name,gender,height,weight,age = 18):# A function with default parameter\n",
    "    print(f'''Name:{name}\n",
    "Gender:{gender}\n",
    "Heigth:{height}\n",
    "Weight:{weight}\n",
    "Age:{age}\n",
    "''')\n",
    "    if age >=18:\n",
    "        print('Congratulations you are eligible to vote')\n",
    "    else:\n",
    "        print('oh!!!!!! you are not eligible to vote')\n",
    "person2('Simeon','Male',1.75,69,25)"
   ]
  },
  {
   "cell_type": "markdown",
   "metadata": {},
   "source": [
    "# write a function to find the max of three numbers\n",
    "# write a function to find those numbers which are divisible by 7 and multiple of 5 between 1500 and 2700 both included\n",
    "# write  a function to calculate the area of a triangle\n",
    "# write a function to check if a given number is a prime number"
   ]
  },
  {
   "cell_type": "code",
   "execution_count": 14,
   "metadata": {},
   "outputs": [
    {
     "name": "stdout",
     "output_type": "stream",
     "text": [
      "num2 is the max\n"
     ]
    }
   ],
   "source": [
    "def maxof3():\n",
    "    num1 = int(input('Enter the first number:'))\n",
    "    num2= int(input('Enter the second number:'))\n",
    "    num3 = int(input('Enter the third number:'))\n",
    "\n",
    "    if num1 > num2 and num1 > num3:\n",
    "        print('num1 is the max')\n",
    "    elif num2 > num1 and num2 > num3:\n",
    "        print('num2 is the max')\n",
    "    else:\n",
    "        print('num3 is the max')\n",
    "maxof3()"
   ]
  },
  {
   "cell_type": "code",
   "execution_count": 15,
   "metadata": {},
   "outputs": [
    {
     "name": "stdout",
     "output_type": "stream",
     "text": [
      "[1505, 1540, 1575, 1610, 1645, 1680, 1715, 1750, 1785, 1820, 1855, 1890, 1925, 1960, 1995, 2030, 2065, 2100, 2135, 2170, 2205, 2240, 2275, 2310, 2345, 2380, 2415, 2450, 2485, 2520, 2555, 2590, 2625, 2660, 2695]\n"
     ]
    }
   ],
   "source": [
    "def divisible5and7():\n",
    "    numbers = []\n",
    "    for i in range(1500,2701):\n",
    "        if (i %7 == 0) and (i %5 ==0):\n",
    "            numbers.append(i)\n",
    "    print(numbers)\n",
    "divisible5and7()"
   ]
  },
  {
   "cell_type": "code",
   "execution_count": 16,
   "metadata": {},
   "outputs": [
    {
     "name": "stdout",
     "output_type": "stream",
     "text": [
      "The area of given triangle is 20.0\n"
     ]
    }
   ],
   "source": [
    "def areatri(height,base):\n",
    "    area = (1/2*base) * height\n",
    "    print(f'The area of given triangle is {area}')\n",
    "areatri(8,5)\n"
   ]
  },
  {
   "cell_type": "code",
   "execution_count": 19,
   "metadata": {},
   "outputs": [
    {
     "name": "stdout",
     "output_type": "stream",
     "text": [
      "70 is not a prime number\n",
      "2 times 35 is 70\n"
     ]
    }
   ],
   "source": [
    "def isprime():\n",
    "    num = int(input('Enter the first number:'))\n",
    "    if num >1:\n",
    "        for i in range(2,num):\n",
    "            if (num % 1) == 0:\n",
    "                print(num,'is not a prime number')\n",
    "                print(i,'times', num//i, 'is', num)\n",
    "                break\n",
    "        else:\n",
    "            print(num, 'is a prime number')\n",
    "    else:\n",
    "        print(num, 'is not a prime number')\n",
    "isprime()"
   ]
  },
  {
   "cell_type": "code",
   "execution_count": null,
   "metadata": {},
   "outputs": [],
   "source": []
  }
 ],
 "metadata": {
  "interpreter": {
   "hash": "9bf2ca0f4a7adc3ce2f237ca763c1538d3ef289a4e7face3612a01cdae9f6807"
  },
  "kernelspec": {
   "display_name": "Python 3.10.2 64-bit",
   "language": "python",
   "name": "python3"
  },
  "language_info": {
   "codemirror_mode": {
    "name": "ipython",
    "version": 3
   },
   "file_extension": ".py",
   "mimetype": "text/x-python",
   "name": "python",
   "nbconvert_exporter": "python",
   "pygments_lexer": "ipython3",
   "version": "3.10.2"
  },
  "orig_nbformat": 4
 },
 "nbformat": 4,
 "nbformat_minor": 2
}
