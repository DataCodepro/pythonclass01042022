{
 "cells": [
  {
   "cell_type": "code",
   "execution_count": 1,
   "metadata": {},
   "outputs": [],
   "source": [
    "#try\n",
    "#except\n",
    "#else\n",
    "#finally"
   ]
  },
  {
   "cell_type": "code",
   "execution_count": 4,
   "metadata": {},
   "outputs": [
    {
     "name": "stdout",
     "output_type": "stream",
     "text": [
      "1.6\n"
     ]
    }
   ],
   "source": [
    "try:\n",
    "    num1 = int(input('Please enter the first number'))\n",
    "    num2 = int(input('Please enter the second number'))\n",
    "    print(num1/num2)\n",
    "except:\n",
    "    print('You have encouter one or more error')"
   ]
  },
  {
   "cell_type": "code",
   "execution_count": 9,
   "metadata": {},
   "outputs": [
    {
     "name": "stdout",
     "output_type": "stream",
     "text": [
      "You cannot divide a number by Zero\n"
     ]
    }
   ],
   "source": [
    "try:\n",
    "    num1 = int(input('Please enter the first number'))\n",
    "    num2 = int(input('Please enter the second number'))\n",
    "    print(num1/num2)\n",
    "except ValueError:\n",
    "    print('Wrong Value Integer Value is Expected')\n",
    "except ZeroDivisionError:\n",
    "    print('You cannot divide a number by Zero')\n",
    "except:\n",
    "    print('You have encounter one or more errors')"
   ]
  },
  {
   "cell_type": "code",
   "execution_count": 11,
   "metadata": {},
   "outputs": [
    {
     "name": "stdout",
     "output_type": "stream",
     "text": [
      "2.0\n",
      "4096\n"
     ]
    }
   ],
   "source": [
    "try:\n",
    "    num1 = int(input('Please enter the first number'))\n",
    "    num2 = int(input('Please enter the second number'))\n",
    "    print(num1/num2)\n",
    "except ValueError:\n",
    "    print('Wrong Value Integer Value is Expected')\n",
    "except ZeroDivisionError:\n",
    "    print('You cannot divide a number by Zero')\n",
    "except:\n",
    "    print('You have encounter one or more errors')\n",
    "else:\n",
    "    print(num1 ** num2)"
   ]
  },
  {
   "cell_type": "code",
   "execution_count": 13,
   "metadata": {},
   "outputs": [
    {
     "name": "stdout",
     "output_type": "stream",
     "text": [
      "1.6\n",
      "32768\n",
      "End of program\n"
     ]
    }
   ],
   "source": [
    "try:\n",
    "    num1 = int(input('Please enter the first number'))\n",
    "    num2 = int(input('Please enter the second number'))\n",
    "    print(num1/num2)\n",
    "except ValueError:\n",
    "    print('Wrong Value Integer Value is Expected')\n",
    "except ZeroDivisionError:\n",
    "    print('You cannot divide a number by Zero')\n",
    "except:\n",
    "    print('You have encounter one or more errors')\n",
    "else:\n",
    "    print(num1 ** num2)\n",
    "finally:\n",
    "    print('End of program')"
   ]
  },
  {
   "cell_type": "code",
   "execution_count": 14,
   "metadata": {},
   "outputs": [],
   "source": [
    "#Exercise\n",
    "# using error handling write calculator program that will accept two number from the user  \n",
    "# write a condition to either Add, subtract, multiply or divide\n",
    "# handle the following errors(ValueError, ZeroDivisionError and all other erros)\n",
    "# under the else block find the sqrt of the first and the second number\n",
    "# finally print end of program"
   ]
  },
  {
   "cell_type": "code",
   "execution_count": null,
   "metadata": {},
   "outputs": [],
   "source": [
    "import math\n",
    "try:\n",
    "    num1 = int(input('Please enter the first number'))\n",
    "    num2 = int(input('Please enter the second number'))\n",
    "    ch = input('Choose your operation (+,-,*,/)')\n",
    "    if ch == '+':\n",
    "        print(f'{num1} + {num2} = {num1 + num2}')\n",
    "    elif ch == '-':\n",
    "        print(f'{num1} - {num2} = {num1 - num2}')\n",
    "    elif ch == '*':\n",
    "        print(f'{num1} x {num2} = {num1 * num2}')\n",
    "    elif ch == '/':\n",
    "        print(f'{num1} / {num2} = {num1 / num2}')\n",
    "\n",
    "except ValueError:\n",
    "    print('Wrong Value Integer Value is Expected')\n",
    "except ZeroDivisionError:\n",
    "    print('You cannot divide a number by Zero')\n",
    "except:\n",
    "    print('You have encounter one or more errors')\n",
    "else:\n",
    "    print(f'The sqrt of {num1} is {math.sqrt(num1)}')\n",
    "    print(f'The sqrt of {num2} is {math.sqrt(num2)}')\n",
    "finally:\n",
    "    print('End of program')"
   ]
  }
 ],
 "metadata": {
  "interpreter": {
   "hash": "9bf2ca0f4a7adc3ce2f237ca763c1538d3ef289a4e7face3612a01cdae9f6807"
  },
  "kernelspec": {
   "display_name": "Python 3.10.2 64-bit",
   "language": "python",
   "name": "python3"
  },
  "language_info": {
   "codemirror_mode": {
    "name": "ipython",
    "version": 3
   },
   "file_extension": ".py",
   "mimetype": "text/x-python",
   "name": "python",
   "nbconvert_exporter": "python",
   "pygments_lexer": "ipython3",
   "version": "3.10.2"
  },
  "orig_nbformat": 4
 },
 "nbformat": 4,
 "nbformat_minor": 2
}
