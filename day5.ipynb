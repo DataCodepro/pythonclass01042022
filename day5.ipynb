{
 "cells": [
  {
   "cell_type": "code",
   "execution_count": 1,
   "metadata": {},
   "outputs": [
    {
     "name": "stdout",
     "output_type": "stream",
     "text": [
      "Sorry you are not eligble for any bonus yet\n"
     ]
    }
   ],
   "source": [
    "salary = float(input('Provide your salary:'))\n",
    "yos = int(input('Provide your year of service:'))\n",
    "if yos > 5:\n",
    "    bonus = (salary/100)*5\n",
    "    netbonus = salary + bonus\n",
    "else:\n",
    "    print('Sorry you are not eligble for any bonus yet')"
   ]
  },
  {
   "cell_type": "code",
   "execution_count": 2,
   "metadata": {},
   "outputs": [
    {
     "name": "stdout",
     "output_type": "stream",
     "text": [
      "num2 is the greatest\n"
     ]
    }
   ],
   "source": [
    "num1 = int(input('Provide the first number:'))\n",
    "num2 = int(input('Provide the second number:'))\n",
    "if num1 > num2:\n",
    "    print('num1 is the greatest')\n",
    "else:\n",
    "    print('num2 is the greatest')"
   ]
  },
  {
   "cell_type": "code",
   "execution_count": 3,
   "metadata": {},
   "outputs": [
    {
     "name": "stdout",
     "output_type": "stream",
     "text": [
      "p\n",
      "y\n",
      "t\n",
      "h\n",
      "o\n",
      "n\n"
     ]
    }
   ],
   "source": [
    "word = 'python'\n",
    "for char in word:\n",
    "    print(char)"
   ]
  },
  {
   "cell_type": "code",
   "execution_count": 4,
   "metadata": {},
   "outputs": [
    {
     "name": "stdout",
     "output_type": "stream",
     "text": [
      "p y t h o n "
     ]
    }
   ],
   "source": [
    "word = 'python'\n",
    "for char in word:\n",
    "    print(char,end = ' ')"
   ]
  },
  {
   "cell_type": "code",
   "execution_count": 5,
   "metadata": {},
   "outputs": [
    {
     "name": "stdout",
     "output_type": "stream",
     "text": [
      "hey Ade am inviting you for my birthday party\n",
      "hey Mary am inviting you for my birthday party\n",
      "hey Jane am inviting you for my birthday party\n",
      "hey Samuel am inviting you for my birthday party\n"
     ]
    }
   ],
   "source": [
    "friends = ['Ade','Mary','Jane','Samuel']\n",
    "for name in friends:\n",
    "    print(f'hey {name} am inviting you for my birthday party')"
   ]
  },
  {
   "cell_type": "code",
   "execution_count": 6,
   "metadata": {},
   "outputs": [
    {
     "name": "stdout",
     "output_type": "stream",
     "text": [
      "0\n",
      "1\n",
      "2\n",
      "3\n",
      "4\n",
      "5\n",
      "6\n",
      "7\n"
     ]
    }
   ],
   "source": [
    "for i in range(8):\n",
    "    print(i)"
   ]
  },
  {
   "cell_type": "code",
   "execution_count": 7,
   "metadata": {},
   "outputs": [
    {
     "name": "stdout",
     "output_type": "stream",
     "text": [
      "45 x 1 = 45\n",
      "45 x 2 = 90\n",
      "45 x 3 = 135\n",
      "45 x 4 = 180\n",
      "45 x 5 = 225\n",
      "45 x 6 = 270\n",
      "45 x 7 = 315\n",
      "45 x 8 = 360\n",
      "45 x 9 = 405\n",
      "45 x 10 = 450\n",
      "45 x 11 = 495\n",
      "45 x 12 = 540\n"
     ]
    }
   ],
   "source": [
    "num = int(input('Provide a number:'))\n",
    "for i in range(1,13):\n",
    "    print(f'{num} x {i} = {num*i}')"
   ]
  },
  {
   "cell_type": "code",
   "execution_count": 8,
   "metadata": {},
   "outputs": [
    {
     "name": "stdout",
     "output_type": "stream",
     "text": [
      "James : 87\n",
      "Glory : 85\n",
      "Samuel : 80\n",
      "Grace : 90\n"
     ]
    }
   ],
   "source": [
    "records = {\n",
    "    'James':95,\n",
    "    'Glory':85,\n",
    "    'Samuel':80,\n",
    "    'James':87,\n",
    "    'Grace':90\n",
    "}\n",
    "\n",
    "for key, value in records.items():\n",
    "    print(key,':',value)"
   ]
  },
  {
   "cell_type": "code",
   "execution_count": 13,
   "metadata": {},
   "outputs": [
    {
     "name": "stdout",
     "output_type": "stream",
     "text": [
      "85\n"
     ]
    }
   ],
   "source": [
    "records = {\n",
    "    'James':95,\n",
    "    'Glory':85,\n",
    "    'Samuel':80,\n",
    "    'James':87,\n",
    "    'Grace':90\n",
    "}\n",
    "\n",
    "for key in records:\n",
    "    if key == 'Glory':\n",
    "        print(records[key])"
   ]
  },
  {
   "cell_type": "code",
   "execution_count": 17,
   "metadata": {},
   "outputs": [
    {
     "name": "stdout",
     "output_type": "stream",
     "text": [
      "85\n"
     ]
    }
   ],
   "source": [
    "records = {\n",
    "    'James':95,\n",
    "    'Glory':85,\n",
    "    'Samuel':80,\n",
    "    'James':88,\n",
    "    'Grace':90\n",
    "}\n",
    "\n",
    "for key in records:\n",
    "    if key == 'Glory':\n",
    "        print(records[key])\n",
    "        break\n",
    "    "
   ]
  },
  {
   "cell_type": "code",
   "execution_count": 19,
   "metadata": {},
   "outputs": [
    {
     "name": "stdout",
     "output_type": "stream",
     "text": [
      "88\n",
      "80\n",
      "90\n"
     ]
    }
   ],
   "source": [
    "records = {\n",
    "    'James':95,\n",
    "    'Glory':85,\n",
    "    'Samuel':80,\n",
    "    'James':88,\n",
    "    'Grace':90\n",
    "}\n",
    "\n",
    "for key in records:\n",
    "    if key == 'Glory':\n",
    "        continue\n",
    "    print(records[key])"
   ]
  },
  {
   "cell_type": "code",
   "execution_count": 20,
   "metadata": {},
   "outputs": [],
   "source": [
    "numbers = []\n",
    "import random\n",
    "counter = 1\n",
    "while counter <= 100:\n",
    "    num = random.randint(45,60)\n",
    "    numbers.append(num)\n",
    "    counter = counter + 1"
   ]
  },
  {
   "cell_type": "code",
   "execution_count": 21,
   "metadata": {},
   "outputs": [
    {
     "name": "stdout",
     "output_type": "stream",
     "text": [
      "[53, 50, 45, 46, 48, 60, 47, 47, 54, 50, 46, 54, 51, 50, 53, 52, 52, 50, 58, 57, 60, 48, 50, 52, 48, 52, 47, 54, 59, 57, 57, 45, 50, 54, 49, 52, 52, 57, 57, 59, 45, 49, 53, 59, 57, 54, 60, 45, 51, 46, 45, 51, 49, 57, 49, 56, 55, 59, 58, 54, 55, 60, 59, 45, 48, 56, 45, 50, 58, 47, 53, 48, 48, 53, 58, 53, 47, 52, 54, 55, 47, 52, 50, 57, 60, 45, 49, 50, 55, 50, 51, 56, 53, 45, 56, 53, 47, 59, 59, 59]\n"
     ]
    }
   ],
   "source": [
    "print(numbers)"
   ]
  },
  {
   "cell_type": "code",
   "execution_count": null,
   "metadata": {},
   "outputs": [],
   "source": []
  }
 ],
 "metadata": {
  "interpreter": {
   "hash": "9bf2ca0f4a7adc3ce2f237ca763c1538d3ef289a4e7face3612a01cdae9f6807"
  },
  "kernelspec": {
   "display_name": "Python 3.10.2 64-bit",
   "language": "python",
   "name": "python3"
  },
  "language_info": {
   "codemirror_mode": {
    "name": "ipython",
    "version": 3
   },
   "file_extension": ".py",
   "mimetype": "text/x-python",
   "name": "python",
   "nbconvert_exporter": "python",
   "pygments_lexer": "ipython3",
   "version": "3.10.2"
  },
  "orig_nbformat": 4
 },
 "nbformat": 4,
 "nbformat_minor": 2
}
