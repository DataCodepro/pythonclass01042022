{
 "cells": [
  {
   "cell_type": "code",
   "execution_count": 1,
   "metadata": {},
   "outputs": [],
   "source": [
    "#EXERCISE\n",
    "#1. Ask the user for a number and determine whether the number is prime or not\n",
    "#2. Write a function to check if a number is in a given range\n",
    "#3. Write a function to reverse a string"
   ]
  },
  {
   "cell_type": "code",
   "execution_count": 3,
   "metadata": {},
   "outputs": [],
   "source": [
    "class dog:\n",
    "    attr1 = 'Mamal'\n",
    "    attr2 = 'Dog'\n",
    "obj = dog()"
   ]
  },
  {
   "cell_type": "code",
   "execution_count": 4,
   "metadata": {},
   "outputs": [
    {
     "data": {
      "text/plain": [
       "'Mamal'"
      ]
     },
     "execution_count": 4,
     "metadata": {},
     "output_type": "execute_result"
    }
   ],
   "source": [
    "obj.attr1"
   ]
  },
  {
   "cell_type": "code",
   "execution_count": 5,
   "metadata": {},
   "outputs": [
    {
     "data": {
      "text/plain": [
       "'Dog'"
      ]
     },
     "execution_count": 5,
     "metadata": {},
     "output_type": "execute_result"
    }
   ],
   "source": [
    "obj.attr2"
   ]
  },
  {
   "cell_type": "code",
   "execution_count": 6,
   "metadata": {},
   "outputs": [],
   "source": [
    "class dog:\n",
    "    attr1 = 'Mamal'\n",
    "    attr2 = 'Dog'\n",
    "    def bark(self):\n",
    "        print('Hey i can bark')\n",
    "obj = dog()"
   ]
  },
  {
   "cell_type": "code",
   "execution_count": 8,
   "metadata": {},
   "outputs": [
    {
     "name": "stdout",
     "output_type": "stream",
     "text": [
      "Hey i can bark\n"
     ]
    }
   ],
   "source": [
    "obj.bark()"
   ]
  },
  {
   "cell_type": "code",
   "execution_count": 9,
   "metadata": {},
   "outputs": [
    {
     "name": "stdout",
     "output_type": "stream",
     "text": [
      "Mercede Benz GLK has started\n",
      "None\n",
      "Gear place on 4\n",
      "None\n",
      "Nitro Engaged\n",
      "None\n",
      "Mercede Benz GLK has stopped\n",
      "None\n"
     ]
    }
   ],
   "source": [
    "class carsimulation:\n",
    "    def __init__(self,Brand, Model,Color,Year,Speed):\n",
    "        self.Brand = Brand\n",
    "        self.Model = Model\n",
    "        self.Color = Color\n",
    "        self.Year = Year\n",
    "        self.Speed = Speed\n",
    "\n",
    "\n",
    "    def start(self):\n",
    "        print(f'{self.Brand} {self.Model} has started')\n",
    "\n",
    "    def gear(self,choice):\n",
    "        if choice == 1:\n",
    "            print('Gear place on 1')\n",
    "        elif choice == 2:\n",
    "            print('Gear place on 2')\n",
    "        elif choice == 3:\n",
    "            print('Gear place on 3')\n",
    "        elif choice == 4:\n",
    "            print('Gear place on 4')\n",
    "        elif choice == 5:\n",
    "            print('Gear place on 5')\n",
    "        elif choice == 6:\n",
    "            print('Gear place on reverse')\n",
    "\n",
    "    def nitro(self,choice):\n",
    "        if choice == 1:\n",
    "            print('Nitro Engaged')\n",
    "        else:\n",
    "            print('Nitro Disengaged')\n",
    "    def stop(self):\n",
    "         print(f'{self.Brand} {self.Model} has stopped')\n",
    "car1 = carsimulation('Mercede Benz','GLK','Black',2020,250)\n",
    "\n",
    "print(car1.start())\n",
    "print(car1.gear(4))\n",
    "print(car1.nitro(1))\n",
    "print(car1.stop())"
   ]
  },
  {
   "cell_type": "code",
   "execution_count": 10,
   "metadata": {},
   "outputs": [
    {
     "name": "stdout",
     "output_type": "stream",
     "text": [
      "Audi A4 has started\n",
      "None\n",
      "Gear place on 2\n",
      "None\n",
      "Nitro Engaged\n",
      "None\n",
      "Audi A4 has stopped\n",
      "None\n"
     ]
    }
   ],
   "source": [
    "class carsimulation200(carsimulation):\n",
    "    def openroof(self):\n",
    "        choice = int(input('Pick a choice:'))\n",
    "        if choice ==1:\n",
    "            print('Roof Opened')\n",
    "        else:\n",
    "            print('Roof Closed')\n",
    "car2 = carsimulation200('Audi','A4', 'Navy Blue',2022,350)\n",
    "print(car2.start())\n",
    "print(car2.gear(2))\n",
    "print(car2.nitro(1))\n",
    "print(car2.stop())"
   ]
  },
  {
   "cell_type": "code",
   "execution_count": 12,
   "metadata": {},
   "outputs": [
    {
     "name": "stdout",
     "output_type": "stream",
     "text": [
      "Roof Opened\n",
      "None\n"
     ]
    }
   ],
   "source": [
    "print(car2.openroof())"
   ]
  },
  {
   "cell_type": "code",
   "execution_count": null,
   "metadata": {},
   "outputs": [],
   "source": []
  }
 ],
 "metadata": {
  "interpreter": {
   "hash": "9bf2ca0f4a7adc3ce2f237ca763c1538d3ef289a4e7face3612a01cdae9f6807"
  },
  "kernelspec": {
   "display_name": "Python 3.10.2 64-bit",
   "language": "python",
   "name": "python3"
  },
  "language_info": {
   "codemirror_mode": {
    "name": "ipython",
    "version": 3
   },
   "file_extension": ".py",
   "mimetype": "text/x-python",
   "name": "python",
   "nbconvert_exporter": "python",
   "pygments_lexer": "ipython3",
   "version": "3.10.2"
  },
  "orig_nbformat": 4
 },
 "nbformat": 4,
 "nbformat_minor": 2
}
