{
 "cells": [
  {
   "cell_type": "code",
   "execution_count": 9,
   "metadata": {},
   "outputs": [],
   "source": [
    "number = 8  #variable number is holding an integer value of 8\n",
    "number2 = 12.5# variable number2 is holding a floating value of 12.5\n",
    "word = 'school'# variable word is holding a string value of school\n",
    "X = True # variable word is holding a boolean value of True"
   ]
  },
  {
   "cell_type": "code",
   "execution_count": 10,
   "metadata": {},
   "outputs": [],
   "source": [
    "# declear a varible  num1 to any integer value\n",
    "# declear a varible  num2 to any floating value\n",
    "# declear a varible  name to any string value\n",
    "# declear a varible  y to any of the boolean  value"
   ]
  },
  {
   "cell_type": "code",
   "execution_count": 11,
   "metadata": {},
   "outputs": [],
   "source": [
    "num1 = 45\n",
    "num2 = 12.9\n",
    "name = 'simeon'\n",
    "Y = False"
   ]
  },
  {
   "cell_type": "code",
   "execution_count": 6,
   "metadata": {},
   "outputs": [
    {
     "name": "stdout",
     "output_type": "stream",
     "text": [
      "we're brothers from the other side of the town\n"
     ]
    }
   ],
   "source": [
    "word = 'we\\'re brothers from the other side of the town'\n",
    "print(word)"
   ]
  },
  {
   "cell_type": "code",
   "execution_count": 5,
   "metadata": {},
   "outputs": [],
   "source": [
    "# declear a variable call word and assign the following statement to it \n",
    "# we're good brethen from the brotherhood by escaping it"
   ]
  },
  {
   "cell_type": "code",
   "execution_count": 6,
   "metadata": {},
   "outputs": [
    {
     "name": "stdout",
     "output_type": "stream",
     "text": [
      "we're brothers from the other side of the town\n"
     ]
    }
   ],
   "source": [
    "word = \"we're brothers from the other side of the town\"\n",
    "print(word)"
   ]
  },
  {
   "cell_type": "code",
   "execution_count": 7,
   "metadata": {},
   "outputs": [
    {
     "name": "stdout",
     "output_type": "stream",
     "text": [
      "python is fun\n",
      "python is easy to learn\n",
      "pyhton has an interactive environment\n"
     ]
    }
   ],
   "source": [
    "word2 = 'python is fun\\npython is easy to learn\\npyhton has an interactive environment'\n",
    "print(word2)"
   ]
  },
  {
   "cell_type": "code",
   "execution_count": 8,
   "metadata": {},
   "outputs": [
    {
     "name": "stdout",
     "output_type": "stream",
     "text": [
      "python is fun\n",
      "python is easy to learn\n",
      "pyhton has an interactive environment\n",
      "\n"
     ]
    }
   ],
   "source": [
    "word3 = '''python is fun\n",
    "python is easy to learn\n",
    "pyhton has an interactive environment\n",
    "'''\n",
    "print(word3)"
   ]
  },
  {
   "cell_type": "code",
   "execution_count": 11,
   "metadata": {},
   "outputs": [
    {
     "name": "stdout",
     "output_type": "stream",
     "text": [
      "Hello World\n"
     ]
    }
   ],
   "source": [
    "print('Hello' +' '+ 'World')# joining of string and string"
   ]
  },
  {
   "cell_type": "code",
   "execution_count": 13,
   "metadata": {},
   "outputs": [
    {
     "name": "stdout",
     "output_type": "stream",
     "text": [
      "welcome to python class simeon\n"
     ]
    }
   ],
   "source": [
    "print('welcome to python class', name)# joining of string and variable holding a string value"
   ]
  },
  {
   "cell_type": "code",
   "execution_count": 15,
   "metadata": {},
   "outputs": [
    {
     "name": "stdout",
     "output_type": "stream",
     "text": [
      "simeon paul\n"
     ]
    }
   ],
   "source": [
    "secondname = 'paul'\n",
    "print(name, secondname)# joining of variable and variable holding a string value"
   ]
  },
  {
   "cell_type": "code",
   "execution_count": 19,
   "metadata": {},
   "outputs": [
    {
     "name": "stdout",
     "output_type": "stream",
     "text": [
      "i bought a notebook for 85 naira, three pen for 150 naira and two pencil for 40 naira\n"
     ]
    }
   ],
   "source": [
    "price1 = 85\n",
    "price2 = 150\n",
    "price3 = 40\n",
    "report = 'i bought a notebook for {} naira, three pen for {} naira and two pencil for {} naira'\n",
    "print(report.format(price1,price2,price3))"
   ]
  },
  {
   "cell_type": "code",
   "execution_count": 20,
   "metadata": {},
   "outputs": [
    {
     "name": "stdout",
     "output_type": "stream",
     "text": [
      "i bought a notebook for 85 naira, three pen for 150 naira and two pencil for 40 naira\n"
     ]
    }
   ],
   "source": [
    "print(f'i bought a notebook for {price1} naira, three pen for {price2} naira and two pencil for {price3} naira')"
   ]
  },
  {
   "cell_type": "code",
   "execution_count": 22,
   "metadata": {},
   "outputs": [
    {
     "name": "stdout",
     "output_type": "stream",
     "text": [
      "SCHOOL\n",
      "school\n",
      "Python Is Fun\n",
      "Python is fun\n",
      "['python', 'is', 'fun']\n",
      "info@gmail.com\n"
     ]
    }
   ],
   "source": [
    "word1 = 'school'\n",
    "word2 = 'SCHOOL'\n",
    "word3 = 'python is fun'\n",
    "word4 = '   info@gmail.com'\n",
    "\n",
    "print(word1.upper())\n",
    "print(word2.lower())\n",
    "print(word3.title())\n",
    "print(word3.capitalize())\n",
    "print(word3.split())\n",
    "print(word4.strip())"
   ]
  },
  {
   "cell_type": "code",
   "execution_count": null,
   "metadata": {},
   "outputs": [],
   "source": []
  }
 ],
 "metadata": {
  "kernelspec": {
   "display_name": "Python 3",
   "language": "python",
   "name": "python3"
  },
  "language_info": {
   "codemirror_mode": {
    "name": "ipython",
    "version": 3
   },
   "file_extension": ".py",
   "mimetype": "text/x-python",
   "name": "python",
   "nbconvert_exporter": "python",
   "pygments_lexer": "ipython3",
   "version": "3.8.5"
  }
 },
 "nbformat": 4,
 "nbformat_minor": 4
}
